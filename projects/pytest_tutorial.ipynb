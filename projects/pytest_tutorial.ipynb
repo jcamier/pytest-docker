{
 "cells": [
  {
   "cell_type": "code",
   "execution_count": 2,
   "metadata": {},
   "outputs": [],
   "source": [
    "import ipytest\n",
    "import ipytest.magics"
   ]
  },
  {
   "cell_type": "code",
   "execution_count": 3,
   "metadata": {
    "collapsed": true
   },
   "outputs": [],
   "source": [
    "ipytest.config.rewrite_asserts = True"
   ]
  },
  {
   "cell_type": "code",
   "execution_count": 4,
   "metadata": {
    "collapsed": true
   },
   "outputs": [],
   "source": [
    "__file__ = \"pytest_tutorial.ipynb\""
   ]
  },
  {
   "cell_type": "code",
   "execution_count": 5,
   "metadata": {},
   "outputs": [
    {
     "name": "stderr",
     "output_type": "stream",
     "text": [
      "UsageError: %%run_pytest[clean] is a cell magic, but the cell body is empty.\n"
     ]
    }
   ],
   "source": [
    "%%run_pytest[clean]"
   ]
  },
  {
   "cell_type": "code",
   "execution_count": 6,
   "metadata": {},
   "outputs": [
    {
     "name": "stdout",
     "output_type": "stream",
     "text": [
      ".                                                                                           [100%]\n"
     ]
    }
   ],
   "source": [
    "%%run_pytest -qq\n",
    "\n",
    "def test_passing():\n",
    "    assert (1, 2, 3) == (1, 2, 3)"
   ]
  },
  {
   "cell_type": "code",
   "execution_count": 7,
   "metadata": {},
   "outputs": [
    {
     "name": "stderr",
     "output_type": "stream",
     "text": [
      "UsageError: %%run_pytest[clean] is a cell magic, but the cell body is empty.\n"
     ]
    }
   ],
   "source": [
    "%%run_pytest[clean]"
   ]
  },
  {
   "cell_type": "code",
   "execution_count": 8,
   "metadata": {},
   "outputs": [
    {
     "name": "stdout",
     "output_type": "stream",
     "text": [
      "F                                                                                           [100%]\n",
      "============================================ FAILURES =============================================\n",
      "__________________________________________ test_passing ___________________________________________\n",
      "\n",
      "    def test_passing():\n",
      ">       assert (1, 2, 3) == (1, 2, 4)\n",
      "E       assert (1, 2, 3) == (1, 2, 4)\n",
      "E         At index 2 diff: 3 != 4\n",
      "E         Full diff:\n",
      "E         - (1, 2, 3)\n",
      "E         ?        ^\n",
      "E         + (1, 2, 4)\n",
      "E         ?        ^\n",
      "\n",
      "<ipython-input-8-8f6d4e7cc087>:3: AssertionError\n"
     ]
    }
   ],
   "source": [
    "%%run_pytest -qq\n",
    "\n",
    "def test_passing():\n",
    "    assert (1, 2, 3) == (1, 2, 4)"
   ]
  },
  {
   "cell_type": "code",
   "execution_count": null,
   "metadata": {
    "collapsed": true
   },
   "outputs": [],
   "source": []
  }
 ],
 "metadata": {
  "kernelspec": {
   "display_name": "Python36 (pytest)",
   "language": "python",
   "name": "venv-pytest-dock"
  },
  "language_info": {
   "codemirror_mode": {
    "name": "ipython",
    "version": 3
   },
   "file_extension": ".py",
   "mimetype": "text/x-python",
   "name": "python",
   "nbconvert_exporter": "python",
   "pygments_lexer": "ipython3",
   "version": "3.6.5"
  }
 },
 "nbformat": 4,
 "nbformat_minor": 2
}
