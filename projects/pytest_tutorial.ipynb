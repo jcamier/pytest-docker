{
 "cells": [
  {
   "cell_type": "code",
   "execution_count": 6,
   "metadata": {},
   "outputs": [
    {
     "data": {
      "text/html": [
       "<h1 style=\"color:blue;\"><u>Pytest (ipytest) tutorial</u></h1>\n"
      ],
      "text/plain": [
       "<IPython.core.display.HTML object>"
      ]
     },
     "metadata": {},
     "output_type": "display_data"
    }
   ],
   "source": [
    "%%HTML\n",
    "<h1 style=\"color:blue;\"><u>Pytest (ipytest) tutorial</u></h1>"
   ]
  },
  {
   "cell_type": "markdown",
   "metadata": {},
   "source": [
    "## Inspiration for this talk is based on Brian Okken's book, \"Python Testing with pytest\"\n",
    "### https://pragprog.com/book/bopytest/python-testing-with-pytest"
   ]
  },
  {
   "cell_type": "markdown",
   "metadata": {},
   "source": [
    "## Brian Okken has a great podcast dedicated to testing with python called Test & Code:\n",
    "### https://testandcode.com/"
   ]
  },
  {
   "cell_type": "markdown",
   "metadata": {},
   "source": [
    "## Also, special thanks to Christopher Prohm who created a package to run pytest in Jupyter Notebooks called ipytest\n",
    "### https://github.com/chmp/ipytest"
   ]
  },
  {
   "cell_type": "markdown",
   "metadata": {},
   "source": [
    "## My talk will be running on a Jupyter Notebook using a Docker image that I created and custom kernel settings. It is found at\n",
    "### https://github.com/jcamier/pytest-docker"
   ]
  },
  {
   "cell_type": "code",
   "execution_count": 1,
   "metadata": {},
   "outputs": [
    {
     "data": {
      "text/html": [
       "<h1 style=\"color:red;\">So why do a talk on testing and why pytest?</h1>\n"
      ],
      "text/plain": [
       "<IPython.core.display.HTML object>"
      ]
     },
     "metadata": {},
     "output_type": "display_data"
    }
   ],
   "source": [
    "%%HTML\n",
    "<h1 style=\"color:red;\">So why do a talk on testing and why pytest?</h1>"
   ]
  },
  {
   "cell_type": "markdown",
   "metadata": {},
   "source": [
    "## Well if you have spent any significant time programming code that other people will use, if it is not well tested, it will break, be buggy, cause problems, lose clients, cost the company money, etc."
   ]
  },
  {
   "cell_type": "markdown",
   "metadata": {},
   "source": [
    "## Spending time writing good tests, will:\n",
    "## 1) Help you feel more confident of the code you have written.\n",
    "## 2) Be more stable code.  \n",
    "## 3) A better user experience.\n",
    "## 4) Improve your programming logic and skills.\n",
    "## 5) Help you sleep better at night."
   ]
  },
  {
   "cell_type": "code",
   "execution_count": 2,
   "metadata": {},
   "outputs": [
    {
     "data": {
      "text/html": [
       "<h1 style=\"color:green;\">So let's jump into the talk, and run some code.</h1>\n"
      ],
      "text/plain": [
       "<IPython.core.display.HTML object>"
      ]
     },
     "metadata": {},
     "output_type": "display_data"
    }
   ],
   "source": [
    "%%HTML\n",
    "<h1 style=\"color:green;\">So let's jump into the talk, and run some code.</h1>"
   ]
  },
  {
   "cell_type": "markdown",
   "metadata": {},
   "source": [
    "## First we need to import the ipytest package and its magic methods that allows us to use pytest in a Jupyter notebook"
   ]
  },
  {
   "cell_type": "code",
   "execution_count": 5,
   "metadata": {
    "collapsed": true
   },
   "outputs": [],
   "source": [
    "import ipytest\n",
    "import ipytest.magics"
   ]
  },
  {
   "cell_type": "markdown",
   "metadata": {},
   "source": [
    "#### Enable ipython AST* transforms to rewrite asserts, defaults to False.\n",
    "#### *AST (Abstract Syntax Tree) - basically an abstract representation of code."
   ]
  },
  {
   "cell_type": "code",
   "execution_count": 6,
   "metadata": {},
   "outputs": [],
   "source": [
    "ipytest.config.rewrite_asserts = True  "
   ]
  },
  {
   "cell_type": "code",
   "execution_count": 4,
   "metadata": {
    "collapsed": true
   },
   "outputs": [],
   "source": [
    "__file__ = \"pytest_tutorial.ipynb\""
   ]
  },
  {
   "cell_type": "code",
   "execution_count": 5,
   "metadata": {},
   "outputs": [
    {
     "name": "stderr",
     "output_type": "stream",
     "text": [
      "UsageError: %%run_pytest[clean] is a cell magic, but the cell body is empty.\n"
     ]
    }
   ],
   "source": [
    "%%run_pytest[clean]"
   ]
  },
  {
   "cell_type": "code",
   "execution_count": 6,
   "metadata": {},
   "outputs": [
    {
     "name": "stdout",
     "output_type": "stream",
     "text": [
      ".                                                                                           [100%]\n"
     ]
    }
   ],
   "source": [
    "%%run_pytest -qq\n",
    "\n",
    "def test_passing():\n",
    "    assert (1, 2, 3) == (1, 2, 3)"
   ]
  },
  {
   "cell_type": "code",
   "execution_count": 7,
   "metadata": {},
   "outputs": [
    {
     "name": "stderr",
     "output_type": "stream",
     "text": [
      "UsageError: %%run_pytest[clean] is a cell magic, but the cell body is empty.\n"
     ]
    }
   ],
   "source": [
    "%%run_pytest[clean]"
   ]
  },
  {
   "cell_type": "code",
   "execution_count": 8,
   "metadata": {},
   "outputs": [
    {
     "name": "stdout",
     "output_type": "stream",
     "text": [
      "F                                                                                           [100%]\n",
      "============================================ FAILURES =============================================\n",
      "__________________________________________ test_passing ___________________________________________\n",
      "\n",
      "    def test_passing():\n",
      ">       assert (1, 2, 3) == (1, 2, 4)\n",
      "E       assert (1, 2, 3) == (1, 2, 4)\n",
      "E         At index 2 diff: 3 != 4\n",
      "E         Full diff:\n",
      "E         - (1, 2, 3)\n",
      "E         ?        ^\n",
      "E         + (1, 2, 4)\n",
      "E         ?        ^\n",
      "\n",
      "<ipython-input-8-8f6d4e7cc087>:3: AssertionError\n"
     ]
    }
   ],
   "source": [
    "%%run_pytest -qq\n",
    "\n",
    "def test_passing():\n",
    "    assert (1, 2, 3) == (1, 2, 4)"
   ]
  },
  {
   "cell_type": "code",
   "execution_count": null,
   "metadata": {
    "collapsed": true
   },
   "outputs": [],
   "source": []
  }
 ],
 "metadata": {
  "kernelspec": {
   "display_name": "Python36 (pytest)",
   "language": "python",
   "name": "venv-pytest-dock"
  },
  "language_info": {
   "codemirror_mode": {
    "name": "ipython",
    "version": 3
   },
   "file_extension": ".py",
   "mimetype": "text/x-python",
   "name": "python",
   "nbconvert_exporter": "python",
   "pygments_lexer": "ipython3",
   "version": "3.6.5"
  }
 },
 "nbformat": 4,
 "nbformat_minor": 2
}
