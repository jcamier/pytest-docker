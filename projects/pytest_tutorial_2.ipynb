{
 "cells": [
  {
   "cell_type": "markdown",
   "metadata": {},
   "source": [
    "# Pytest Tutorial - Part II\n",
    "# Welcome to the second Pytest Talk!"
   ]
  },
  {
   "cell_type": "markdown",
   "metadata": {},
   "source": [
    "# My name is Jack Camier, Data Scientist and Python Developer\n",
    "## Found below is a link to the first talk of this series:\n",
    "https://github.com/jcamier/pytest-docker/blob/master/projects/pytest_tutorial.ipynb"
   ]
  },
  {
   "cell_type": "markdown",
   "metadata": {},
   "source": [
    "# Inspiration for this talk is based on Brian Okken's book, \"Python Testing with pytest\"\n",
    "https://pragprog.com/book/bopytest/python-testing-with-pytest\n",
    "# Brian Okken has a great podcast dedicated to testing with python called Test & Code:\n",
    "https://testandcode.com/\n",
    "# Also, special thanks to Christopher Prohm who created a package to run pytest in Jupyter Notebooks called ipytest\n",
    "https://github.com/chmp/ipytest"
   ]
  },
  {
   "cell_type": "markdown",
   "metadata": {},
   "source": [
    "## This section we will be focusing on classes, scopes and fixtures"
   ]
  },
  {
   "cell_type": "markdown",
   "metadata": {},
   "source": [
    "## First we need to import the ipytest package and its magic methods that allows us to use pytest in a Jupyter notebook"
   ]
  },
  {
   "cell_type": "code",
   "execution_count": 39,
   "metadata": {
    "collapsed": true
   },
   "outputs": [],
   "source": [
    "import ipytest\n",
    "import ipytest.magics\n",
    "# Enable ipython AST transforms to rewrite asserts, defaults to False. Discussed in my last talk why.\n",
    "ipytest.config.rewrite_asserts = True"
   ]
  },
  {
   "cell_type": "markdown",
   "metadata": {},
   "source": [
    "# Name of the workbook, so pytest knows where to run the tests"
   ]
  },
  {
   "cell_type": "code",
   "execution_count": 40,
   "metadata": {
    "collapsed": true
   },
   "outputs": [],
   "source": [
    "__file__ = \"pytest_tutorial_2.ipynb\""
   ]
  },
  {
   "cell_type": "markdown",
   "metadata": {},
   "source": [
    "# Test files should be named test_something.py or something_test.py. \n",
    "# Test methods and functions should be named test_something. \n",
    "# Test classes should be named TestSomething."
   ]
  },
  {
   "cell_type": "markdown",
   "metadata": {},
   "source": [
    "# Today, we are going to be working on a Python Class that works with sockets.\n",
    "\n",
    "\n",
    "# Socket programming is a way of connecting two nodes on a network to communicate with each other. One socket (node) listens on a particular port at an IP, while the other socket reaches out to the listening node to form a connection. The server forms the listener socket while client reaches out to the server.\n",
    "# This is the backbone behind web browsing. \n",
    "https://www.geeksforgeeks.org/socket-programming-python/"
   ]
  },
  {
   "cell_type": "code",
   "execution_count": 43,
   "metadata": {},
   "outputs": [
    {
     "data": {
      "text/html": [
       "<img src=\"../images/websockets.png\" width=\"600\"/>\n"
      ],
      "text/plain": [
       "<IPython.core.display.HTML object>"
      ]
     },
     "metadata": {},
     "output_type": "display_data"
    }
   ],
   "source": [
    "%%HTML\n",
    "<img src=\"../images/websockets.png\" width=\"600\"/>"
   ]
  },
  {
   "cell_type": "markdown",
   "metadata": {
    "collapsed": true
   },
   "source": [
    "# Let's say we have built the following python script to see if a port is open?"
   ]
  },
  {
   "cell_type": "code",
   "execution_count": 44,
   "metadata": {},
   "outputs": [
    {
     "name": "stdout",
     "output_type": "stream",
     "text": [
      "Port is open\n"
     ]
    }
   ],
   "source": [
    "import socket\n",
    "\n",
    "sock = socket.socket(socket.AF_INET, socket.SOCK_STREAM)\n",
    "sock.settimeout(5)\n",
    "result = sock.connect_ex(('127.0.0.1',8888))\n",
    "if result == 0:\n",
    "   print(\"Port is open\")\n",
    "else:\n",
    "   print(\"Port is not open\")\n",
    "sock.close()"
   ]
  },
  {
   "cell_type": "markdown",
   "metadata": {},
   "source": [
    "# The socket module is part of Python's standard library.\n",
    "https://docs.python.org/3/library/socket.html"
   ]
  },
  {
   "cell_type": "markdown",
   "metadata": {},
   "source": [
    "# The first parameter is AF_INET and the second one is SOCK_STREAM.\n",
    "\n",
    "# AF_INET refers to the address family ipv4. \n",
    "# The SOCK_STREAM means connection oriented TCP protocol."
   ]
  },
  {
   "cell_type": "markdown",
   "metadata": {},
   "source": [
    "# Now, let's say we want to refactor this code and create it as a class. I know this could easily be created as a function, but imagine the requirements of your project is that it needs to be a class. So, we will create the most basic class to get started."
   ]
  },
  {
   "cell_type": "code",
   "execution_count": 48,
   "metadata": {
    "collapsed": true
   },
   "outputs": [],
   "source": [
    "class PingServer:\n",
    "    pass"
   ]
  },
  {
   "cell_type": "markdown",
   "metadata": {},
   "source": [
    "# Let's create two basic tests. One that will fail and another that will pass."
   ]
  },
  {
   "cell_type": "markdown",
   "metadata": {},
   "source": [
    "# TDD (Test Driven Development) follows the methodoly of creating a failing test, then a passing test and lastly refactor the code to simplify it if needed."
   ]
  },
  {
   "cell_type": "code",
   "execution_count": 49,
   "metadata": {},
   "outputs": [
    {
     "data": {
      "text/html": [
       "<img src=\"../images/tdd_cycle.png\" width=\"600\"/>\n"
      ],
      "text/plain": [
       "<IPython.core.display.HTML object>"
      ]
     },
     "metadata": {},
     "output_type": "display_data"
    }
   ],
   "source": [
    "%%HTML\n",
    "<img src=\"../images/tdd_cycle.png\" width=\"600\"/>"
   ]
  },
  {
   "cell_type": "markdown",
   "metadata": {},
   "source": [
    "## Use ipytest magic commands to run pytest in jupyter notebook. ipytest.clean_tests() clears any previously defined tests"
   ]
  },
  {
   "cell_type": "code",
   "execution_count": 50,
   "metadata": {
    "collapsed": true
   },
   "outputs": [],
   "source": [
    "ipytest.clean_tests()"
   ]
  },
  {
   "cell_type": "code",
   "execution_count": 51,
   "metadata": {},
   "outputs": [
    {
     "name": "stdout",
     "output_type": "stream",
     "text": [
      "F                                                                        [100%]\n",
      "=================================== FAILURES ===================================\n",
      "__________________________ test_ping_server_obj_fail ___________________________\n",
      "\n",
      "    def test_ping_server_obj_fail():\n",
      ">       assert isinstance(PingServer(), SomeOjb)\n",
      "E       NameError: name 'SomeOjb' is not defined\n",
      "\n",
      "<ipython-input-51-74010f3c867a>:3: NameError\n"
     ]
    }
   ],
   "source": [
    "%%run_pytest -qq\n",
    "\n",
    "def test_ping_server_obj_fail():\n",
    "    assert isinstance(PingServer(), SomeOjb)"
   ]
  },
  {
   "cell_type": "code",
   "execution_count": 52,
   "metadata": {
    "collapsed": true
   },
   "outputs": [],
   "source": [
    "ipytest.clean_tests()"
   ]
  },
  {
   "cell_type": "code",
   "execution_count": 53,
   "metadata": {},
   "outputs": [
    {
     "name": "stdout",
     "output_type": "stream",
     "text": [
      ".                                                                        [100%]\n"
     ]
    }
   ],
   "source": [
    "%%run_pytest -qq\n",
    "\n",
    "def test_ping_server_obj():\n",
    "    assert isinstance(PingServer(), PingServer)"
   ]
  },
  {
   "cell_type": "markdown",
   "metadata": {},
   "source": [
    "## Side note. Here is a link with all the assert methods. These are useful for building tests\n",
    "https://www.mattcrampton.com/blog/a_list_of_all_python_assert_methods/"
   ]
  },
  {
   "cell_type": "markdown",
   "metadata": {},
   "source": [
    "# Good, we had a failing test, then a passing test. I don't believe this could be refactored any way simpler, so we will continue to add attributes to this class."
   ]
  },
  {
   "cell_type": "code",
   "execution_count": 63,
   "metadata": {
    "collapsed": true
   },
   "outputs": [],
   "source": [
    "class PingServer:\n",
    "    \n",
    "    def __init__(self, host, port):\n",
    "        self.host = host\n",
    "        self.port = port"
   ]
  },
  {
   "cell_type": "code",
   "execution_count": 64,
   "metadata": {
    "collapsed": true
   },
   "outputs": [],
   "source": [
    "ipytest.clean_tests()"
   ]
  },
  {
   "cell_type": "code",
   "execution_count": 65,
   "metadata": {},
   "outputs": [
    {
     "name": "stdout",
     "output_type": "stream",
     "text": [
      "FFF                                                                      [100%]\n",
      "=================================== FAILURES ===================================\n",
      "__________________________ test_ping_server_obj_fail ___________________________\n",
      "\n",
      "    def test_ping_server_obj_fail():\n",
      ">       assert isinstance(PingServer(), SomeOjb)\n",
      "E       TypeError: __init__() missing 2 required positional arguments: 'host' and 'port'\n",
      "\n",
      "<ipython-input-65-de73daf2e7b7>:3: TypeError\n",
      "_____________________________ test_ping_server_obj _____________________________\n",
      "\n",
      "    def test_ping_server_obj():\n",
      ">       assert isinstance(PingServer(), PingServer)\n",
      "E       TypeError: __init__() missing 2 required positional arguments: 'host' and 'port'\n",
      "\n",
      "<ipython-input-65-de73daf2e7b7>:6: TypeError\n",
      "_________________________ test_ping_server_attributes __________________________\n",
      "\n",
      "    def test_ping_server_attributes():\n",
      ">       assert hasattr(host, port)\n",
      "E       NameError: name 'host' is not defined\n",
      "\n",
      "<ipython-input-65-de73daf2e7b7>:9: NameError\n"
     ]
    }
   ],
   "source": [
    "%%run_pytest -qq\n",
    "\n",
    "def test_ping_server_obj_fail():\n",
    "    assert isinstance(PingServer(), SomeOjb)\n",
    "    \n",
    "def test_ping_server_obj():\n",
    "    assert isinstance(PingServer(), PingServer)\n",
    "    \n",
    "def test_ping_server_attributes():\n",
    "    assert hasattr(host, port)"
   ]
  },
  {
   "cell_type": "markdown",
   "metadata": {},
   "source": [
    "# Woh! All three test failed! Why?"
   ]
  },
  {
   "cell_type": "markdown",
   "metadata": {},
   "source": [
    "# Okay, let's refactor our code to get it to work."
   ]
  },
  {
   "cell_type": "code",
   "execution_count": 68,
   "metadata": {
    "collapsed": true
   },
   "outputs": [],
   "source": [
    "ipytest.clean_tests()"
   ]
  },
  {
   "cell_type": "code",
   "execution_count": 74,
   "metadata": {},
   "outputs": [
    {
     "name": "stdout",
     "output_type": "stream",
     "text": [
      "FFF                                                                      [100%]\n",
      "=================================== FAILURES ===================================\n",
      "__________________________ test_ping_server_obj_fail ___________________________\n",
      "\n",
      "    def test_ping_server_obj_fail():\n",
      ">       assert isinstance(PingServer(), SomeOjb)\n",
      "E       TypeError: __init__() missing 2 required positional arguments: 'host' and 'port'\n",
      "\n",
      "<ipython-input-74-cb9f903a7581>:3: TypeError\n",
      "_____________________________ test_ping_server_obj _____________________________\n",
      "\n",
      "    def test_ping_server_obj():\n",
      ">       assert isinstance(PingServer(), PingServer)\n",
      "E       TypeError: __init__() missing 2 required positional arguments: 'host' and 'port'\n",
      "\n",
      "<ipython-input-74-cb9f903a7581>:6: TypeError\n",
      "_________________________ test_ping_server_attributes __________________________\n",
      "\n",
      "host = '127.0.0.1', port = 8888\n",
      "\n",
      "    def test_ping_server_attributes(host='127.0.0.1', port=8888):\n",
      ">       assert hasattr('127.0.0.1', \"8888\")\n",
      "E       AssertionError: assert False\n",
      "E        +  where False = hasattr('127.0.0.1', '8888')\n",
      "\n",
      "<ipython-input-74-cb9f903a7581>:9: AssertionError\n"
     ]
    }
   ],
   "source": [
    "%%run_pytest -qq\n",
    "\n",
    "def test_ping_server_obj_fail():\n",
    "    assert isinstance(PingServer(), SomeOjb)\n",
    "    \n",
    "def test_ping_server_obj():\n",
    "    assert isinstance(PingServer(), PingServer)\n",
    "    \n",
    "def test_ping_server_attributes(host='127.0.0.1', port=8888):\n",
    "    assert hasattr('127.0.0.1', \"8888\")\n",
    "    "
   ]
  },
  {
   "cell_type": "code",
   "execution_count": 13,
   "metadata": {
    "collapsed": true
   },
   "outputs": [],
   "source": [
    "class PingServer:\n",
    "    \n",
    "    def __init__(self, host, port):\n",
    "        self.host = host\n",
    "        self.port = port\n",
    "        sock = socket.socket(socket.AF_INET, socket.SOCK_STREAM)\n",
    "        sock.settimeout(5)\n",
    "        self.result = sock.connect_ex((host, port))\n",
    "        \n",
    "        if self.result == 0:\n",
    "           print(\"Port is open\")\n",
    "        else:\n",
    "           print(\"Port is not open\")\n",
    "        \n",
    "        sock.close()"
   ]
  },
  {
   "cell_type": "code",
   "execution_count": 14,
   "metadata": {},
   "outputs": [
    {
     "name": "stdout",
     "output_type": "stream",
     "text": [
      "Port is open\n"
     ]
    }
   ],
   "source": [
    "our_server = PingServer('127.0.0.1', 8888)"
   ]
  },
  {
   "cell_type": "code",
   "execution_count": null,
   "metadata": {
    "collapsed": true
   },
   "outputs": [],
   "source": []
  }
 ],
 "metadata": {
  "kernelspec": {
   "display_name": "Python36 (pytest)",
   "language": "python",
   "name": "venv-pytest-dock"
  },
  "language_info": {
   "codemirror_mode": {
    "name": "ipython",
    "version": 3
   },
   "file_extension": ".py",
   "mimetype": "text/x-python",
   "name": "python",
   "nbconvert_exporter": "python",
   "pygments_lexer": "ipython3",
   "version": "3.6.5"
  }
 },
 "nbformat": 4,
 "nbformat_minor": 2
}
