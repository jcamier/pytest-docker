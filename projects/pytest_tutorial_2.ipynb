{
 "cells": [
  {
   "cell_type": "markdown",
   "metadata": {},
   "source": [
    "# Pytest Tutorial - Part II\n",
    "# Welcome to the second Pytest Talk!"
   ]
  },
  {
   "cell_type": "markdown",
   "metadata": {},
   "source": [
    "# My name is Jack Camier, Data Scientist and Python Developer\n",
    "## Found below is a link to the first talk of this series:\n",
    "https://github.com/jcamier/pytest-docker/blob/master/projects/pytest_tutorial.ipynb"
   ]
  },
  {
   "cell_type": "markdown",
   "metadata": {},
   "source": [
    "# Inspiration for this talk is based on Brian Okken's book, \"Python Testing with pytest\"\n",
    "https://pragprog.com/book/bopytest/python-testing-with-pytest\n",
    "# Brian Okken has a great podcast dedicated to testing with python called Test & Code:\n",
    "https://testandcode.com/\n",
    "# Also, special thanks to Christopher Prohm who created a package to run pytest in Jupyter Notebooks called ipytest\n",
    "https://github.com/chmp/ipytest"
   ]
  },
  {
   "cell_type": "markdown",
   "metadata": {},
   "source": [
    "## This section we will be focusing on classes, scopes and fixtures"
   ]
  },
  {
   "cell_type": "markdown",
   "metadata": {},
   "source": [
    "# Notes on naming convention of test files when using pytest.\n",
    "\n",
    "# Test files should be named test_something.py or something_test.py. \n",
    "# Test methods and functions should be named test_something. \n",
    "# Test classes should be named TestSomething."
   ]
  },
  {
   "cell_type": "markdown",
   "metadata": {},
   "source": [
    "## First we need to import the ipytest package and its magic methods that allows us to use pytest in a Jupyter notebook"
   ]
  },
  {
   "cell_type": "code",
   "execution_count": 7,
   "metadata": {
    "collapsed": true
   },
   "outputs": [],
   "source": [
    "import ipytest\n",
    "import ipytest.magics\n",
    "# Enable ipython AST transforms to rewrite asserts, defaults to False. Discussed in my last talk why.\n",
    "ipytest.config.rewrite_asserts = True"
   ]
  },
  {
   "cell_type": "code",
   "execution_count": 8,
   "metadata": {
    "collapsed": true
   },
   "outputs": [],
   "source": [
    "# Name of the workbook so, pytest knows where to run the tests\n",
    "__file__ = \"pytest_tutorial_2.ipynb\""
   ]
  },
  {
   "cell_type": "markdown",
   "metadata": {},
   "source": [
    "# Quick side note:\n",
    "# Socket programming is a way of connecting two nodes on a network to communicate with each other. One socket (node) listens on a particular port at an IP, while the other socket reaches out to the listening node to form a connection. The server forms the listener socket while client reaches out to the server.\n",
    "# This is the backbone behind web browsing. "
   ]
  },
  {
   "cell_type": "code",
   "execution_count": 9,
   "metadata": {},
   "outputs": [
    {
     "data": {
      "text/html": [
       "<img src=\"../images/websockets.png\" width=\"600\"/>\n"
      ],
      "text/plain": [
       "<IPython.core.display.HTML object>"
      ]
     },
     "metadata": {},
     "output_type": "display_data"
    }
   ],
   "source": [
    "%%HTML\n",
    "<img src=\"../images/websockets.png\" width=\"600\"/>"
   ]
  },
  {
   "cell_type": "markdown",
   "metadata": {
    "collapsed": true
   },
   "source": [
    "# Let's say we have built the following python script to see if a port is open?"
   ]
  },
  {
   "cell_type": "code",
   "execution_count": 10,
   "metadata": {},
   "outputs": [
    {
     "name": "stdout",
     "output_type": "stream",
     "text": [
      "Port is open\n"
     ]
    }
   ],
   "source": [
    "import socket\n",
    "sock = socket.socket(socket.AF_INET, socket.SOCK_STREAM)\n",
    "sock.settimeout(5)\n",
    "result = sock.connect_ex(('127.0.0.1',8888))\n",
    "if result == 0:\n",
    "   print(\"Port is open\")\n",
    "else:\n",
    "   print(\"Port is not open\")\n",
    "sock.close()"
   ]
  },
  {
   "cell_type": "markdown",
   "metadata": {},
   "source": [
    "# Now, let's say we want to create it as a class. I know this could easily be created as a function, but imagine the requirements of your project is that it needs to be a class"
   ]
  },
  {
   "cell_type": "code",
   "execution_count": 11,
   "metadata": {
    "collapsed": true
   },
   "outputs": [],
   "source": [
    "import socket\n",
    "\n",
    "class PingServer:\n",
    "    \n",
    "    def __init__(self, host, port):\n",
    "        self.host=host\n",
    "        self.port=port\n",
    "        sock = socket.socket(socket.AF_INET, socket.SOCK_STREAM)\n",
    "        sock.settimeout(5)\n",
    "        self.result = sock.connect_ex((host, port))\n",
    "        \n",
    "        if self.result == 0:\n",
    "           print(\"Port is open\")\n",
    "        else:\n",
    "           print(\"Port is not open\")\n",
    "        \n",
    "        sock.close()"
   ]
  },
  {
   "cell_type": "code",
   "execution_count": 12,
   "metadata": {},
   "outputs": [
    {
     "name": "stdout",
     "output_type": "stream",
     "text": [
      "Port is open\n"
     ]
    }
   ],
   "source": [
    "our_server = PingServer('127.0.0.1', 8888)"
   ]
  },
  {
   "cell_type": "code",
   "execution_count": null,
   "metadata": {
    "collapsed": true
   },
   "outputs": [],
   "source": []
  }
 ],
 "metadata": {
  "kernelspec": {
   "display_name": "Python36 (pytest)",
   "language": "python",
   "name": "venv-pytest-dock"
  },
  "language_info": {
   "codemirror_mode": {
    "name": "ipython",
    "version": 3
   },
   "file_extension": ".py",
   "mimetype": "text/x-python",
   "name": "python",
   "nbconvert_exporter": "python",
   "pygments_lexer": "ipython3",
   "version": "3.6.5"
  }
 },
 "nbformat": 4,
 "nbformat_minor": 2
}
