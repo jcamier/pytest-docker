{
 "cells": [
  {
   "cell_type": "markdown",
   "metadata": {},
   "source": [
    "# Pytest Tutorial - Part II\n",
    "# Welcome to the second Pytest Talk!"
   ]
  },
  {
   "cell_type": "markdown",
   "metadata": {},
   "source": [
    "# My name is Jack Camier, Data Scientist and Python Developer\n",
    "## Found below is a link to the first talk of this series:\n",
    "https://github.com/jcamier/pytest-docker/blob/master/projects/pytest_tutorial.ipynb"
   ]
  },
  {
   "cell_type": "markdown",
   "metadata": {},
   "source": [
    "# Inspiration for this talk is based on Brian Okken's book, \"Python Testing with pytest\"\n",
    "https://pragprog.com/book/bopytest/python-testing-with-pytest\n",
    "# Brian Okken has a great podcast dedicated to testing with python called Test & Code:\n",
    "https://testandcode.com/\n",
    "# Also, special thanks to Christopher Prohm who created a package to run pytest in Jupyter Notebooks called ipytest\n",
    "https://github.com/chmp/ipytest"
   ]
  },
  {
   "cell_type": "markdown",
   "metadata": {},
   "source": [
    "## This section we will be focusing on classes, scopes and fixtures"
   ]
  },
  {
   "cell_type": "markdown",
   "metadata": {},
   "source": [
    "## First we need to import the ipytest package and its magic methods that allows us to use pytest in a Jupyter notebook"
   ]
  },
  {
   "cell_type": "code",
   "execution_count": 1,
   "metadata": {
    "collapsed": true
   },
   "outputs": [],
   "source": [
    "import ipytest\n",
    "import ipytest.magics\n",
    "# Enable ipython AST transforms to rewrite asserts, defaults to False. Discussed in my last talk why.\n",
    "ipytest.config.rewrite_asserts = True"
   ]
  },
  {
   "cell_type": "markdown",
   "metadata": {},
   "source": [
    "# Name of the workbook, so pytest knows where to run the tests"
   ]
  },
  {
   "cell_type": "code",
   "execution_count": 2,
   "metadata": {
    "collapsed": true
   },
   "outputs": [],
   "source": [
    "__file__ = \"pytest_tutorial_2.ipynb\""
   ]
  },
  {
   "cell_type": "markdown",
   "metadata": {},
   "source": [
    "# Test files should be named test_something.py or something_test.py. \n",
    "# Test methods and functions should be named test_something. \n",
    "# Test classes should be named TestSomething."
   ]
  },
  {
   "cell_type": "markdown",
   "metadata": {},
   "source": [
    "# Today, we are going to be working on a Python Class that works with sockets.\n",
    "\n",
    "\n",
    "# Socket programming is a way of connecting two nodes on a network to communicate with each other. One socket (node) listens on a particular port at an IP, while the other socket reaches out to the listening node to form a connection. The server forms the listener socket while client reaches out to the server.\n",
    "# This is the backbone behind web browsing. \n",
    "https://www.geeksforgeeks.org/socket-programming-python/"
   ]
  },
  {
   "cell_type": "code",
   "execution_count": 3,
   "metadata": {},
   "outputs": [
    {
     "data": {
      "text/html": [
       "<img src=\"../images/websockets.png\" width=\"600\"/>\n"
      ],
      "text/plain": [
       "<IPython.core.display.HTML object>"
      ]
     },
     "metadata": {},
     "output_type": "display_data"
    }
   ],
   "source": [
    "%%HTML\n",
    "<img src=\"../images/websockets.png\" width=\"600\"/>"
   ]
  },
  {
   "cell_type": "markdown",
   "metadata": {
    "collapsed": true
   },
   "source": [
    "# Let's say we have built the following python script to see if a port is open?"
   ]
  },
  {
   "cell_type": "code",
   "execution_count": 4,
   "metadata": {},
   "outputs": [
    {
     "name": "stdout",
     "output_type": "stream",
     "text": [
      "Port is open\n"
     ]
    }
   ],
   "source": [
    "import socket\n",
    "\n",
    "sock = socket.socket(socket.AF_INET, socket.SOCK_STREAM)\n",
    "sock.settimeout(5)\n",
    "result = sock.connect_ex(('127.0.0.1',8888))\n",
    "if result == 0:\n",
    "   print(\"Port is open\")\n",
    "else:\n",
    "   print(\"Port is not open\")\n",
    "sock.close()"
   ]
  },
  {
   "cell_type": "markdown",
   "metadata": {},
   "source": [
    "# The socket module is part of Python's standard library.\n",
    "https://docs.python.org/3/library/socket.html"
   ]
  },
  {
   "cell_type": "markdown",
   "metadata": {},
   "source": [
    "# The first parameter is AF_INET and the second one is SOCK_STREAM.\n",
    "\n",
    "# AF_INET refers to the address family ipv4. \n",
    "# The SOCK_STREAM means connection oriented TCP protocol."
   ]
  },
  {
   "cell_type": "markdown",
   "metadata": {},
   "source": [
    "# Now, let's say we want to refactor this code and create it as a class. I know this could easily be created as a function, but imagine the requirements of your project is that it needs to be a class. So, we will create the most basic class to get started."
   ]
  },
  {
   "cell_type": "code",
   "execution_count": 5,
   "metadata": {
    "collapsed": true
   },
   "outputs": [],
   "source": [
    "class PingServer:\n",
    "    pass"
   ]
  },
  {
   "cell_type": "markdown",
   "metadata": {},
   "source": [
    "# Let's create two basic tests. One that will fail and another that will pass."
   ]
  },
  {
   "cell_type": "markdown",
   "metadata": {},
   "source": [
    "# TDD (Test Driven Development) follows the methodoly of creating a failing test, then a passing test and lastly refactor the code to simplify it if needed."
   ]
  },
  {
   "cell_type": "code",
   "execution_count": 6,
   "metadata": {},
   "outputs": [
    {
     "data": {
      "text/html": [
       "<img src=\"../images/tdd_cycle.png\" width=\"600\"/>\n"
      ],
      "text/plain": [
       "<IPython.core.display.HTML object>"
      ]
     },
     "metadata": {},
     "output_type": "display_data"
    }
   ],
   "source": [
    "%%HTML\n",
    "<img src=\"../images/tdd_cycle.png\" width=\"600\"/>"
   ]
  },
  {
   "cell_type": "markdown",
   "metadata": {},
   "source": [
    "## Use ipytest magic commands to run pytest in jupyter notebook. ipytest.clean_tests() clears any previously defined tests"
   ]
  },
  {
   "cell_type": "code",
   "execution_count": 7,
   "metadata": {
    "collapsed": true
   },
   "outputs": [],
   "source": [
    "ipytest.clean_tests()"
   ]
  },
  {
   "cell_type": "code",
   "execution_count": 8,
   "metadata": {},
   "outputs": [
    {
     "name": "stdout",
     "output_type": "stream",
     "text": [
      "F                                                                        [100%]\n",
      "=================================== FAILURES ===================================\n",
      "__________________________ test_ping_server_obj_fail ___________________________\n",
      "\n",
      "    def test_ping_server_obj_fail():\n",
      ">       assert isinstance(PingServer(), SomeOjb)\n",
      "E       NameError: name 'SomeOjb' is not defined\n",
      "\n",
      "<ipython-input-8-74010f3c867a>:3: NameError\n"
     ]
    }
   ],
   "source": [
    "%%run_pytest -qq\n",
    "\n",
    "def test_ping_server_obj_fail():\n",
    "    assert isinstance(PingServer(), SomeOjb)"
   ]
  },
  {
   "cell_type": "code",
   "execution_count": 9,
   "metadata": {
    "collapsed": true
   },
   "outputs": [],
   "source": [
    "ipytest.clean_tests()"
   ]
  },
  {
   "cell_type": "code",
   "execution_count": 10,
   "metadata": {},
   "outputs": [
    {
     "name": "stdout",
     "output_type": "stream",
     "text": [
      ".                                                                        [100%]\n"
     ]
    }
   ],
   "source": [
    "%%run_pytest -qq\n",
    "\n",
    "def test_ping_server_obj():\n",
    "    assert isinstance(PingServer(), PingServer)"
   ]
  },
  {
   "cell_type": "markdown",
   "metadata": {},
   "source": [
    "## Side note. Here is a link with all the assert methods. These are useful for building tests\n",
    "https://www.mattcrampton.com/blog/a_list_of_all_python_assert_methods/"
   ]
  },
  {
   "cell_type": "markdown",
   "metadata": {},
   "source": [
    "# Good, we had a failing test, then a passing test. I don't believe this could be refactored any simpler, so we will continue to add attributes to this class."
   ]
  },
  {
   "cell_type": "code",
   "execution_count": 11,
   "metadata": {
    "collapsed": true
   },
   "outputs": [],
   "source": [
    "class PingServer:\n",
    "    \n",
    "    def __init__(self, host, port):\n",
    "        self.host = host\n",
    "        self.port = port"
   ]
  },
  {
   "cell_type": "code",
   "execution_count": 12,
   "metadata": {
    "collapsed": true
   },
   "outputs": [],
   "source": [
    "ipytest.clean_tests()"
   ]
  },
  {
   "cell_type": "code",
   "execution_count": 13,
   "metadata": {},
   "outputs": [
    {
     "name": "stdout",
     "output_type": "stream",
     "text": [
      "FFF                                                                      [100%]\n",
      "=================================== FAILURES ===================================\n",
      "__________________________ test_ping_server_obj_fail ___________________________\n",
      "\n",
      "    def test_ping_server_obj_fail():\n",
      ">       assert isinstance(PingServer(), SomeOjb)\n",
      "E       TypeError: __init__() missing 2 required positional arguments: 'host' and 'port'\n",
      "\n",
      "<ipython-input-13-de73daf2e7b7>:3: TypeError\n",
      "_____________________________ test_ping_server_obj _____________________________\n",
      "\n",
      "    def test_ping_server_obj():\n",
      ">       assert isinstance(PingServer(), PingServer)\n",
      "E       TypeError: __init__() missing 2 required positional arguments: 'host' and 'port'\n",
      "\n",
      "<ipython-input-13-de73daf2e7b7>:6: TypeError\n",
      "_________________________ test_ping_server_attributes __________________________\n",
      "\n",
      "    def test_ping_server_attributes():\n",
      ">       assert hasattr(host, port)\n",
      "E       NameError: name 'host' is not defined\n",
      "\n",
      "<ipython-input-13-de73daf2e7b7>:9: NameError\n"
     ]
    }
   ],
   "source": [
    "%%run_pytest -qq\n",
    "\n",
    "def test_ping_server_obj_fail():\n",
    "    assert isinstance(PingServer(), SomeOjb)\n",
    "    \n",
    "def test_ping_server_obj():\n",
    "    assert isinstance(PingServer(), PingServer)\n",
    "    \n",
    "def test_ping_server_attributes():\n",
    "    assert hasattr(host, port)"
   ]
  },
  {
   "cell_type": "markdown",
   "metadata": {},
   "source": [
    "# Woh - all three test failed! Why?"
   ]
  },
  {
   "cell_type": "markdown",
   "metadata": {},
   "source": [
    "# Okay, let's refactor our code to get it to work."
   ]
  },
  {
   "cell_type": "code",
   "execution_count": 14,
   "metadata": {
    "collapsed": true
   },
   "outputs": [],
   "source": [
    "ipytest.clean_tests()"
   ]
  },
  {
   "cell_type": "code",
   "execution_count": 15,
   "metadata": {},
   "outputs": [
    {
     "name": "stdout",
     "output_type": "stream",
     "text": [
      "FF.                                                                      [100%]\n",
      "=================================== FAILURES ===================================\n",
      "__________________________ test_ping_server_obj_fail ___________________________\n",
      "\n",
      "    def test_ping_server_obj_fail():\n",
      ">       assert isinstance(PingServer(), SomeOjb)\n",
      "E       TypeError: __init__() missing 2 required positional arguments: 'host' and 'port'\n",
      "\n",
      "<ipython-input-15-ac8110978c75>:3: TypeError\n",
      "_____________________________ test_ping_server_obj _____________________________\n",
      "\n",
      "    def test_ping_server_obj():\n",
      ">       assert isinstance(PingServer(), PingServer)\n",
      "E       TypeError: __init__() missing 2 required positional arguments: 'host' and 'port'\n",
      "\n",
      "<ipython-input-15-ac8110978c75>:6: TypeError\n"
     ]
    }
   ],
   "source": [
    "%%run_pytest -qq\n",
    "\n",
    "def test_ping_server_obj_fail():\n",
    "    assert isinstance(PingServer(), SomeOjb)\n",
    "    \n",
    "def test_ping_server_obj():\n",
    "    assert isinstance(PingServer(), PingServer)\n",
    "    \n",
    "def test_ping_server_attributes():\n",
    "    test_class = PingServer(host='127.0.0.1', port=8888)\n",
    "    assert test_class.host == '127.0.0.1'"
   ]
  },
  {
   "cell_type": "markdown",
   "metadata": {},
   "source": [
    "# This failed as well. Why?"
   ]
  },
  {
   "cell_type": "code",
   "execution_count": 16,
   "metadata": {},
   "outputs": [
    {
     "name": "stdout",
     "output_type": "stream",
     "text": [
      "F..                                                                      [100%]\n",
      "=================================== FAILURES ===================================\n",
      "__________________________ test_ping_server_obj_fail ___________________________\n",
      "\n",
      "    def test_ping_server_obj_fail():\n",
      ">       assert isinstance(PingServer(host='127.0.0.1', port=8888), SomeOjb)\n",
      "E       NameError: name 'SomeOjb' is not defined\n",
      "\n",
      "<ipython-input-16-42e502ea98a8>:3: NameError\n"
     ]
    }
   ],
   "source": [
    "%%run_pytest -qq\n",
    "\n",
    "def test_ping_server_obj_fail():\n",
    "    assert isinstance(PingServer(host='127.0.0.1', port=8888), SomeOjb)\n",
    "    \n",
    "def test_ping_server_obj():\n",
    "    assert isinstance(PingServer(host='127.0.0.1', port=8888), PingServer)\n",
    "    \n",
    "def test_ping_server_attributes():\n",
    "    test_class = PingServer(host='127.0.0.1', port=8888)\n",
    "    assert test_class.host == '127.0.0.1'"
   ]
  },
  {
   "cell_type": "markdown",
   "metadata": {},
   "source": [
    "# Good we have one failing test: test_ping_server_obj_fail, and two passing tests now.\n",
    "# F.. (F = Fail, . = pass)\n",
    "# I think our class still doesn't need to be refactored, so let's proceed. \n",
    "# Also, I am going to remove our first test function in order to remove distractions from this talk."
   ]
  },
  {
   "cell_type": "markdown",
   "metadata": {},
   "source": [
    "# Now something that is quite possible, is that a programmer might use the wrong data type string for the port in our class. Let's catch this in our class."
   ]
  },
  {
   "cell_type": "code",
   "execution_count": 17,
   "metadata": {
    "collapsed": true
   },
   "outputs": [],
   "source": [
    "ipytest.clean_tests()"
   ]
  },
  {
   "cell_type": "code",
   "execution_count": 18,
   "metadata": {},
   "outputs": [],
   "source": [
    "class PingServer():\n",
    "    \n",
    "    def __init__(self, host, port):\n",
    "        self.host = host\n",
    "        self.port = port\n",
    "        if not isinstance(self.port , int):\n",
    "            self.port = int(self.port)"
   ]
  },
  {
   "cell_type": "markdown",
   "metadata": {},
   "source": [
    "# Now let's create our tests for our refactored class"
   ]
  },
  {
   "cell_type": "code",
   "execution_count": 19,
   "metadata": {
    "collapsed": true
   },
   "outputs": [],
   "source": [
    "ipytest.clean_tests()"
   ]
  },
  {
   "cell_type": "code",
   "execution_count": 20,
   "metadata": {
    "collapsed": true
   },
   "outputs": [],
   "source": [
    "class PingServer():\n",
    "    \n",
    "    def __init__(self, host, port):\n",
    "        self.host = host\n",
    "        self.port = port\n",
    "        if not isinstance(self.port , int):\n",
    "            self.port = int(self.port)"
   ]
  },
  {
   "cell_type": "code",
   "execution_count": 21,
   "metadata": {},
   "outputs": [
    {
     "name": "stdout",
     "output_type": "stream",
     "text": [
      "...                                                                      [100%]\n"
     ]
    }
   ],
   "source": [
    "%%run_pytest -qq\n",
    "\n",
    "def test_ping_server_obj():\n",
    "    assert isinstance(PingServer(host='127.0.0.1', port=8888), PingServer)\n",
    "    \n",
    "def test_ping_server_attributes():\n",
    "    test_class = PingServer(host='127.0.0.1', port=8888)\n",
    "    assert test_class.host == '127.0.0.1'\n",
    "    \n",
    "def test_ping_server_port_str():\n",
    "    test_class = PingServer(host='127.0.0.1', port=\"8888\")\n",
    "    assert test_class.port == 8888"
   ]
  },
  {
   "cell_type": "markdown",
   "metadata": {},
   "source": [
    "# Good all three tests passed\n",
    "# Now let's have the contructor create a socket and return a socket value"
   ]
  },
  {
   "cell_type": "code",
   "execution_count": 22,
   "metadata": {
    "collapsed": true
   },
   "outputs": [],
   "source": [
    "class PingServer():\n",
    "    \n",
    "    def __init__(self, host, port):\n",
    "        self.host = host\n",
    "        self.port = port\n",
    "        if not isinstance(self.port , int):\n",
    "            self.port = int(self.port)\n",
    "        self.sock = socket.socket(socket.AF_INET, socket.SOCK_STREAM)\n",
    "        self.sock.settimeout(5)\n",
    "        self.result = sock.connect_ex((self.host, self.port))"
   ]
  },
  {
   "cell_type": "code",
   "execution_count": 23,
   "metadata": {
    "collapsed": true
   },
   "outputs": [],
   "source": [
    "ipytest.clean_tests()"
   ]
  },
  {
   "cell_type": "code",
   "execution_count": 24,
   "metadata": {},
   "outputs": [
    {
     "name": "stdout",
     "output_type": "stream",
     "text": [
      ".....                                                                    [100%]\n"
     ]
    }
   ],
   "source": [
    "%%run_pytest -qq\n",
    "\n",
    "def test_ping_server_obj():\n",
    "    assert isinstance(PingServer(host='127.0.0.1', port=8888), PingServer)\n",
    "    \n",
    "def test_ping_server_attributes():\n",
    "    test_class = PingServer(host='127.0.0.1', port=8888)\n",
    "    assert test_class.host == '127.0.0.1'\n",
    "    \n",
    "def test_ping_server_port_str():\n",
    "    test_class = PingServer(host='127.0.0.1', port=\"8888\")\n",
    "    assert test_class.port == 8888\n",
    "    \n",
    "def test_ping_server_socket():\n",
    "    test_class = PingServer(host='127.0.0.1', port=8888)\n",
    "    assert hasattr(test_class, 'sock')\n",
    "    \n",
    "def test_ping_server_socket_result():\n",
    "    test_class = PingServer(host='127.0.0.1', port=8888)\n",
    "    assert test_class.result != None # Unittest allow for assertIsNotNone(x)"
   ]
  },
  {
   "cell_type": "markdown",
   "metadata": {},
   "source": [
    "# Finally, now let's have the constructor tell us if the port is open or closed when we ping it as well as close the socket."
   ]
  },
  {
   "cell_type": "code",
   "execution_count": 25,
   "metadata": {},
   "outputs": [],
   "source": [
    "class PingServer:\n",
    "    \n",
    "    def __init__(self, host, port):\n",
    "        self.host = host\n",
    "        self.port = port\n",
    "        if not isinstance(self.port , int):\n",
    "            self.port = int(self.port)\n",
    "        self.sock = socket.socket(socket.AF_INET, socket.SOCK_STREAM)\n",
    "        self.sock.settimeout(5)\n",
    "        self.result = self.sock.connect_ex((self.host, self.port))\n",
    "        \n",
    "        if self.result == 0:\n",
    "           print(\"Port is open\")\n",
    "        else:\n",
    "           print(\"Port is not open\")\n",
    "        \n",
    "        self.sock.close()"
   ]
  },
  {
   "cell_type": "code",
   "execution_count": 26,
   "metadata": {
    "collapsed": true
   },
   "outputs": [],
   "source": [
    "ipytest.clean_tests()"
   ]
  },
  {
   "cell_type": "code",
   "execution_count": 27,
   "metadata": {},
   "outputs": [
    {
     "name": "stdout",
     "output_type": "stream",
     "text": [
      "......                                                                   [100%]\n"
     ]
    }
   ],
   "source": [
    "%%run_pytest -qq\n",
    "\n",
    "def test_ping_server_obj():\n",
    "    assert isinstance(PingServer(host='127.0.0.1', port=8888), PingServer)\n",
    "    \n",
    "def test_ping_server_attributes():\n",
    "    test_class = PingServer(host='127.0.0.1', port=8888)\n",
    "    assert test_class.host == '127.0.0.1'\n",
    "    \n",
    "def test_ping_server_port_str():\n",
    "    test_class = PingServer(host='127.0.0.1', port=\"8888\")\n",
    "    assert test_class.port == 8888\n",
    "    \n",
    "def test_ping_server_socket():\n",
    "    test_class = PingServer(host='127.0.0.1', port=8888)\n",
    "    assert hasattr(test_class, 'sock')\n",
    "    \n",
    "def test_ping_server_socket_result():\n",
    "    test_class = PingServer(host='127.0.0.1', port=8888)\n",
    "    assert test_class.result != None \n",
    "    \n",
    "def test_ping_server_socket_result_is_zero():\n",
    "    test_class = PingServer(host='127.0.0.1', port=8888)\n",
    "    assert test_class.result == 0\n",
    "    \n",
    "def test_ping_server_socket_result_is_zero():\n",
    "    test_class = PingServer(host='127.0.0.1', port=55555)\n",
    "    assert test_class.result != 0"
   ]
  },
  {
   "cell_type": "markdown",
   "metadata": {},
   "source": [
    "# Great all our tests passed.\n",
    "# Now, let's play with our class that we created."
   ]
  },
  {
   "cell_type": "code",
   "execution_count": 28,
   "metadata": {},
   "outputs": [
    {
     "data": {
      "text/plain": [
       "'199.232.9.67'"
      ]
     },
     "execution_count": 28,
     "metadata": {},
     "output_type": "execute_result"
    }
   ],
   "source": [
    "ip_addr = socket.gethostbyname('www.cnn.com')\n",
    "ip_addr"
   ]
  },
  {
   "cell_type": "code",
   "execution_count": 29,
   "metadata": {},
   "outputs": [
    {
     "name": "stdout",
     "output_type": "stream",
     "text": [
      "Port is open\n"
     ]
    }
   ],
   "source": [
    "news_server = PingServer(host=ip_addr, port=80)"
   ]
  },
  {
   "cell_type": "code",
   "execution_count": 30,
   "metadata": {},
   "outputs": [
    {
     "data": {
      "text/plain": [
       "{'host': '199.232.9.67',\n",
       " 'port': 80,\n",
       " 'sock': <socket.socket [closed] fd=-1, family=AddressFamily.AF_INET, type=SocketKind.SOCK_STREAM, proto=0>,\n",
       " 'result': 0}"
      ]
     },
     "execution_count": 30,
     "metadata": {},
     "output_type": "execute_result"
    }
   ],
   "source": [
    "vars(news_server)"
   ]
  },
  {
   "cell_type": "markdown",
   "metadata": {},
   "source": [
    "# Link to this talk:\n",
    "https://github.com/jcamier/pytest-docker/blob/master/projects/pytest_tutorial_2.ipynb"
   ]
  },
  {
   "cell_type": "markdown",
   "metadata": {},
   "source": [
    "# Thank you."
   ]
  }
 ],
 "metadata": {
  "kernelspec": {
   "display_name": "Python36 (pytest)",
   "language": "python",
   "name": "venv-pytest-dock"
  },
  "language_info": {
   "codemirror_mode": {
    "name": "ipython",
    "version": 3
   },
   "file_extension": ".py",
   "mimetype": "text/x-python",
   "name": "python",
   "nbconvert_exporter": "python",
   "pygments_lexer": "ipython3",
   "version": "3.6.5"
  }
 },
 "nbformat": 4,
 "nbformat_minor": 2
}
