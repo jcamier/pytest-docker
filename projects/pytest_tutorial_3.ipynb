{
 "cells": [
  {
   "cell_type": "markdown",
   "metadata": {},
   "source": [
    "# Pytest Tutorial - Part III\n",
    "# Welcome to the third Pytest Talk!"
   ]
  },
  {
   "cell_type": "markdown",
   "metadata": {},
   "source": [
    "# My name is Jack Camier, Data Scientist and Python Developer\n",
    "## Found below is a link to the first two talks of this series:\n",
    "https://github.com/jcamier/pytest-docker/blob/master/projects/pytest_tutorial.ipynb\n",
    "\n",
    "https://github.com/jcamier/pytest-docker/blob/master/projects/pytest_tutorial_2.ipynb"
   ]
  },
  {
   "cell_type": "markdown",
   "metadata": {},
   "source": [
    "# Inspiration for this talk is based on Brian Okken's book, \"Python Testing with pytest\"\n",
    "https://pragprog.com/book/bopytest/python-testing-with-pytest\n",
    "# Brian Okken has a great podcast dedicated to testing with python called Test & Code:\n",
    "https://testandcode.com/\n",
    "# Also, special thanks to Christopher Prohm who created a package to run pytest in Jupyter Notebooks called ipytest\n",
    "https://github.com/chmp/ipytest"
   ]
  },
  {
   "cell_type": "markdown",
   "metadata": {},
   "source": [
    "## This section we will be focusing on fixtures and scope"
   ]
  },
  {
   "cell_type": "markdown",
   "metadata": {},
   "source": [
    "## First we need to import the ipytest package and its magic methods that allows us to use pytest in a Jupyter notebook"
   ]
  },
  {
   "cell_type": "code",
   "execution_count": 3,
   "metadata": {
    "collapsed": true
   },
   "outputs": [],
   "source": [
    "import pytest\n",
    "import ipytest\n",
    "import ipytest.magics\n",
    "# Enable ipython AST transforms to rewrite asserts, defaults to False. Discussed in my last talk why.\n",
    "ipytest.config.rewrite_asserts = True"
   ]
  },
  {
   "cell_type": "markdown",
   "metadata": {},
   "source": [
    "# Name of the workbook, so pytest knows where to run the tests"
   ]
  },
  {
   "cell_type": "code",
   "execution_count": 4,
   "metadata": {
    "collapsed": true
   },
   "outputs": [],
   "source": [
    "__file__ = \"pytest_tutorial_3.ipynb\""
   ]
  },
  {
   "cell_type": "markdown",
   "metadata": {},
   "source": [
    "# Reminders:\n",
    "## Test files should be named test_something.py or something_test.py. \n",
    "## Test methods and functions should be named test_something. \n",
    "## Test classes should be named TestSomething.\n",
    "----"
   ]
  },
  {
   "cell_type": "markdown",
   "metadata": {},
   "source": [
    "# Fixtures are functions that are run by pytest before (sometimes after) the actual test functions."
   ]
  },
  {
   "cell_type": "code",
   "execution_count": 21,
   "metadata": {},
   "outputs": [
    {
     "data": {
      "text/html": [
       "<img src=\"../images/fixtures.gif\" width=\"400\"/>\n"
      ],
      "text/plain": [
       "<IPython.core.display.HTML object>"
      ]
     },
     "metadata": {},
     "output_type": "display_data"
    }
   ],
   "source": [
    "%%HTML\n",
    "<img src=\"../images/fixtures.gif\" width=\"400\"/>"
   ]
  },
  {
   "cell_type": "markdown",
   "metadata": {},
   "source": [
    "## \"The code in the fixture can do whatever you want it to. You can use fixtures to get a data set for the tests to work on. You can use fixtures to get a system into a known state before running a test. Fixtures are also used to get data ready for multiple tests.\"\n",
    "\n",
    "- Okken, Brian. Python Testing with pytest: Simple, Rapid, Effective, and Scalable . Pragmatic Bookshelf. Kindle Edition. "
   ]
  },
  {
   "cell_type": "markdown",
   "metadata": {},
   "source": [
    "# The @pytest.fixture() decorator is used to tell pytest that a function is a fixture. When you include the fixture name in the parameter list of a test function, pytest knows to run it before running the test.\n",
    "\n",
    "# Let's do a quick example"
   ]
  },
  {
   "cell_type": "markdown",
   "metadata": {},
   "source": [
    "## Use ipytest magic commands to run pytest in jupyter notebook. ipytest.clean_tests() clears any previously defined tests"
   ]
  },
  {
   "cell_type": "code",
   "execution_count": 22,
   "metadata": {
    "collapsed": true
   },
   "outputs": [],
   "source": [
    "ipytest.clean_tests()"
   ]
  },
  {
   "cell_type": "code",
   "execution_count": 23,
   "metadata": {
    "collapsed": true
   },
   "outputs": [],
   "source": [
    "@pytest.fixture()\n",
    "def set_data():\n",
    "    return 50"
   ]
  },
  {
   "cell_type": "code",
   "execution_count": 24,
   "metadata": {},
   "outputs": [
    {
     "name": "stdout",
     "output_type": "stream",
     "text": [
      "F                                                                        [100%]\n",
      "=================================== FAILURES ===================================\n",
      "________________________________ test_set_data _________________________________\n",
      "\n",
      "set_data = 50\n",
      "\n",
      "    def test_set_data(set_data):\n",
      ">       assert set_data == 49\n",
      "E       assert 50 == 49\n",
      "E         -50\n",
      "E         +49\n",
      "\n",
      "<ipython-input-24-e5a6e4e81ad5>:4: AssertionError\n"
     ]
    }
   ],
   "source": [
    "%%run_pytest -qq\n",
    "\n",
    "# Create failing test\n",
    "def test_set_data(set_data):\n",
    "    assert set_data == 49"
   ]
  },
  {
   "cell_type": "code",
   "execution_count": 25,
   "metadata": {},
   "outputs": [
    {
     "name": "stdout",
     "output_type": "stream",
     "text": [
      ".                                                                        [100%]\n"
     ]
    }
   ],
   "source": [
    "%%run_pytest -qq\n",
    "\n",
    "# Create passing test\n",
    "def test_set_data(set_data):\n",
    "    assert set_data == 50"
   ]
  },
  {
   "cell_type": "markdown",
   "metadata": {},
   "source": [
    "# pytest fixtures are one of the core features that make pytest stand out above other test frameworks\n",
    "\n",
    "## *side note fixtures in pytest are not the same as fixtures in Django. In Django a fixture normally means to get some initial data loaded into a database at the start of the application.\n",
    "\n",
    "# You can put fixtures into individual test files, but to share fixtures among multiple test files, then you need to use a conftest.py file.\n",
    "\n",
    "# For today's talk, I will not be creating a conftest.py since all the tests will be done in this jupyter notebook"
   ]
  },
  {
   "cell_type": "markdown",
   "metadata": {},
   "source": [
    "# Fixtures include an optional parameter called scope. This controls how often fixtures get set up or torn down."
   ]
  },
  {
   "cell_type": "code",
   "execution_count": 30,
   "metadata": {},
   "outputs": [
    {
     "data": {
      "text/html": [
       "<img src=\"../images/scope.png\" width=\"200\"/>\n"
      ],
      "text/plain": [
       "<IPython.core.display.HTML object>"
      ]
     },
     "metadata": {},
     "output_type": "display_data"
    }
   ],
   "source": [
    "%%HTML\n",
    "<img src=\"../images/scope.png\" width=\"200\"/>"
   ]
  },
  {
   "cell_type": "markdown",
   "metadata": {},
   "source": [
    "# Possible fixture values of scope are: function, class, module, package or session. The default scope is function\n",
    "\n",
    "# scope='function'\n",
    "## Run once per test function. The setup portion is run before each test using the fixture. The teardown portion is run after each test using the fixture. This is the default scope used when no scope parameter is specified.\n",
    "\n",
    "# scope='class'\n",
    "## Run once per test class, regardless of how many test methods are in the class.\n",
    "\n",
    "# scope='module'\n",
    "## Run once per module, regardless of how many test functions or methods or other fixtures in the module use it.\n",
    "\n",
    "# scope='session'\n",
    "## Run once per session. All test methods and functions using a fixture of session scope share one setup and teardown call.\n",
    "\n",
    "- Okken, Brian. Python Testing with pytest: Simple, Rapid, Effective, and Scalable . Pragmatic Bookshelf. Kindle Edition. "
   ]
  },
  {
   "cell_type": "code",
   "execution_count": 18,
   "metadata": {
    "collapsed": true
   },
   "outputs": [],
   "source": [
    "ipytest.clean_tests()"
   ]
  },
  {
   "cell_type": "markdown",
   "metadata": {},
   "source": [
    "# Thank you."
   ]
  }
 ],
 "metadata": {
  "kernelspec": {
   "display_name": "Python36 (pytest)",
   "language": "python",
   "name": "venv-pytest-dock"
  },
  "language_info": {
   "codemirror_mode": {
    "name": "ipython",
    "version": 3
   },
   "file_extension": ".py",
   "mimetype": "text/x-python",
   "name": "python",
   "nbconvert_exporter": "python",
   "pygments_lexer": "ipython3",
   "version": "3.6.5"
  }
 },
 "nbformat": 4,
 "nbformat_minor": 2
}
